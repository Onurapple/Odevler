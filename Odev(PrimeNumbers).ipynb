{
  "nbformat": 4,
  "nbformat_minor": 0,
  "metadata": {
    "colab": {
      "name": "Odev(PrimeNumbers).ipynb",
      "provenance": [],
      "collapsed_sections": [],
      "authorship_tag": "ABX9TyPuupxWx2xl3IdlZZBOX8fk",
      "include_colab_link": true
    },
    "kernelspec": {
      "name": "python3",
      "display_name": "Python 3"
    },
    "language_info": {
      "name": "python"
    }
  },
  "cells": [
    {
      "cell_type": "markdown",
      "metadata": {
        "id": "view-in-github",
        "colab_type": "text"
      },
      "source": [
        "<a href=\"https://colab.research.google.com/github/Onurapple/Odevler/blob/main/Odev(PrimeNumbers).ipynb\" target=\"_parent\"><img src=\"https://colab.research.google.com/assets/colab-badge.svg\" alt=\"Open In Colab\"/></a>"
      ]
    },
    {
      "cell_type": "markdown",
      "metadata": {
        "id": "StZ5TxEm__TF"
      },
      "source": [
        "Task : Write a program that takes a number from the user and prints the result to check if it is a prime number.\n",
        "\n",
        "The examples of the desired output are as follows :\n",
        "\n",
        "input →  19 ⇉ output : 19 is a prime number\n",
        "input →  10 ⇉ output : 10 is not a prime number"
      ]
    },
    {
      "cell_type": "code",
      "metadata": {
        "colab": {
          "base_uri": "https://localhost:8080/",
          "height": 130
        },
        "id": "SEvjxokf_9_a",
        "outputId": "3ad37272-b0e7-447a-8d75-d211fc832972"
      },
      "source": [
        "num = int(input('Please Enter the Number : '))\n",
        "[print('{} is not a prime number'.format(num)) for i in range(2, num) if num % i else print('{} is a prime number'.format(num))]"
      ],
      "execution_count": null,
      "outputs": [
        {
          "output_type": "error",
          "ename": "SyntaxError",
          "evalue": "ignored",
          "traceback": [
            "\u001b[0;36m  File \u001b[0;32m\"<ipython-input-5-0ad539d9075e>\"\u001b[0;36m, line \u001b[0;32m2\u001b[0m\n\u001b[0;31m    [print('{} is not a prime number'.format(num)) for i in range(2, num) if num % 4 else print('{} is a prime number'.format(num))]\u001b[0m\n\u001b[0m                                                                                        ^\u001b[0m\n\u001b[0;31mSyntaxError\u001b[0m\u001b[0;31m:\u001b[0m invalid syntax\n"
          ]
        }
      ]
    },
    {
      "cell_type": "code",
      "metadata": {
        "id": "1L7TbWuTDZPh"
      },
      "source": [
        "num = int(input('Please Enter the Number : '))\n",
        "prime = 0\n",
        "for i in range(2, num):\n",
        "  if num % i == 0:\n",
        "    prime += 1\n",
        "    break\n",
        "if prime:\n",
        "  print('{} is not a prime number'.format(num))\n",
        "else:\n",
        "  print('{} is a prime number'.format(num))  "
      ],
      "execution_count": null,
      "outputs": []
    }
  ]
}