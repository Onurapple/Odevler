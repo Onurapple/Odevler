{
  "nbformat": 4,
  "nbformat_minor": 0,
  "metadata": {
    "colab": {
      "name": "Assigment10_3(ArmstrongNums).ipynb",
      "provenance": [],
      "collapsed_sections": [],
      "authorship_tag": "ABX9TyNhwBvF+p/l3sFIm9dGgYL9",
      "include_colab_link": true
    },
    "kernelspec": {
      "name": "python3",
      "display_name": "Python 3"
    },
    "language_info": {
      "name": "python"
    }
  },
  "cells": [
    {
      "cell_type": "markdown",
      "metadata": {
        "id": "view-in-github",
        "colab_type": "text"
      },
      "source": [
        "<a href=\"https://colab.research.google.com/github/Onurapple/Odevler/blob/main/Assigment10_3(ArmstrongNums).ipynb\" target=\"_parent\"><img src=\"https://colab.research.google.com/assets/colab-badge.svg\" alt=\"Open In Colab\"/></a>"
      ]
    },
    {
      "cell_type": "markdown",
      "metadata": {
        "id": "-cK9NFJUI3cw"
      },
      "source": [
        "Task:\n",
        "\n",
        "Find out if a given number is an \"Armstrong Number\".\n",
        "\n",
        "An n-digit number that is the sum of the nth powers of its digits is called an n-Armstrong number. Examples :\n",
        "371 = 33 + 73 + 13;\n",
        "9474 = 94 + 44 + 74 + 44;\n",
        "93084 = 95 + 35 + 05 + 85 + 45.\n",
        "\n",
        "Write a Python program that;\n",
        "takes a positive integer number from the user,\n",
        "checks the entered number if it is Armstrong,\n",
        "consider the negative, float and any entries other than numeric values then display a warning message to the user.\n",
        "\n",
        "Examples\n",
        "Sample inputs\tOutputs\n",
        "407\t407 is an Armstrong number\n",
        "5\t5 is an Armstrong number\n",
        " -153\t It is an invalid entry. Don't use non-numeric, float, or negative values!\n",
        " 153.87 or 153,87\t It is an invalid entry. Don't use non-numeric, float, or negative values!\n",
        " one\t It is an invalid entry. Don't use non-numeric, float, or negative values!\n",
        " 121\t 121 is not an Armstrong number"
      ]
    },
    {
      "cell_type": "code",
      "metadata": {
        "id": "fNR9PY4VIs7-"
      },
      "source": [
        "sayi = input('Please Enter Number :')\n",
        "if not sayi.isdigit() or int(sayi) < 0 or ',.' in sayi:\n",
        "  print(\"It is an invalid entry. Don't use non-numeric, float, or negative values!\")\n",
        "else:\n",
        "  toplam = 0\n",
        "  for i in sayi:\n",
        "    toplam += (int(i) ** len(sayi))\n",
        "  if toplam == int(sayi):\n",
        "    print(sayi, 'is an Armstrong Number')\n",
        "  else:\n",
        "    print(sayi, 'is not an Armstrong Number')"
      ],
      "execution_count": null,
      "outputs": []
    }
  ]
}