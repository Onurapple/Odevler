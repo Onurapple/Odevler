{
  "nbformat": 4,
  "nbformat_minor": 0,
  "metadata": {
    "colab": {
      "name": "Letters_Count_Assigment.ipynb",
      "provenance": [],
      "collapsed_sections": [],
      "authorship_tag": "ABX9TyNAs5g7Q1ARtXy5P15V2i6Q",
      "include_colab_link": true
    },
    "kernelspec": {
      "name": "python3",
      "display_name": "Python 3"
    },
    "language_info": {
      "name": "python"
    }
  },
  "cells": [
    {
      "cell_type": "markdown",
      "metadata": {
        "id": "view-in-github",
        "colab_type": "text"
      },
      "source": [
        "<a href=\"https://colab.research.google.com/github/Onurapple/Odevler/blob/main/Letters_Count_Assigment.ipynb\" target=\"_parent\"><img src=\"https://colab.research.google.com/assets/colab-badge.svg\" alt=\"Open In Colab\"/></a>"
      ]
    },
    {
      "cell_type": "markdown",
      "source": [
        "Count the number of each letter in a sentence.\n",
        "The department you work for undertook a project construction that makes word / text analysis. You are asked to calculate the number of letters or any chars in the sentences entered under this project.\n",
        "Write a Python program that;\n",
        "takes a sentence from the user,\n",
        "counts the number of each letter of the sentence,\n",
        "collects the letters/chars as a key and the counted numbers as a value in a dictionary.\n",
        "EXAPLE: hippo runs to us!\t\n",
        "{'s': 2, 'r': 1, 't': 1, 'h': 1, 'n': 1, \n",
        "'i': 1, 'u': 2, 'o': 2, 'p': 2, ' ': 3, '!': 1}"
      ],
      "metadata": {
        "id": "WWbrR12DkTsI"
      }
    },
    {
      "cell_type": "code",
      "execution_count": null,
      "metadata": {
        "id": "iAJa4BCgkIMD"
      },
      "outputs": [],
      "source": [
        "word = input('Lütfen cümlenizi giriniz : ')\n",
        "\n",
        "wordict = {}\n",
        "for i in word:\n",
        "  sayi = word.count(i)\n",
        "  wordict[i] = sayi\n",
        "wordict"
      ]
    }
  ]
}