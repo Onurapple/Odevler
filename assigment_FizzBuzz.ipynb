{
  "nbformat": 4,
  "nbformat_minor": 0,
  "metadata": {
    "colab": {
      "name": "assigment_FizzBuzz.ipynb",
      "provenance": [],
      "collapsed_sections": [],
      "authorship_tag": "ABX9TyOzP7An40hHOBi5CTUywief",
      "include_colab_link": true
    },
    "kernelspec": {
      "name": "python3",
      "display_name": "Python 3"
    },
    "language_info": {
      "name": "python"
    }
  },
  "cells": [
    {
      "cell_type": "markdown",
      "metadata": {
        "id": "view-in-github",
        "colab_type": "text"
      },
      "source": [
        "<a href=\"https://colab.research.google.com/github/Onurapple/Odevler/blob/main/assigment_FizzBuzz.ipynb\" target=\"_parent\"><img src=\"https://colab.research.google.com/assets/colab-badge.svg\" alt=\"Open In Colab\"/></a>"
      ]
    },
    {
      "cell_type": "code",
      "metadata": {
        "id": "8MRBccygpBDT"
      },
      "source": [
        "liste = range(1, 101)\n",
        "for i in liste:\n",
        "  if i % 3 == 0 and i % 5 == 0:\n",
        "    print('FuzzBuzz')\n",
        "  elif i % 3 == 0:\n",
        "    print('Fuzz')\n",
        "  elif i % 5 == 0:\n",
        "    print('Buzz')\n",
        "  else:\n",
        "    print(i)\n",
        "liste"
      ],
      "execution_count": null,
      "outputs": []
    }
  ]
}