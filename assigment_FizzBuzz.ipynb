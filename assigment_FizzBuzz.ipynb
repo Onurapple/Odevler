{
  "nbformat": 4,
  "nbformat_minor": 0,
  "metadata": {
    "colab": {
      "name": "assigment_FizzBuzz.ipynb",
      "provenance": [],
      "collapsed_sections": [],
      "authorship_tag": "ABX9TyPCrmgLLx/2/G6/hysl5ggd",
      "include_colab_link": true
    },
    "kernelspec": {
      "name": "python3",
      "display_name": "Python 3"
    },
    "language_info": {
      "name": "python"
    }
  },
  "cells": [
    {
      "cell_type": "markdown",
      "metadata": {
        "id": "view-in-github",
        "colab_type": "text"
      },
      "source": [
        "<a href=\"https://colab.research.google.com/github/Onurapple/Odevler/blob/main/assigment_FizzBuzz.ipynb\" target=\"_parent\"><img src=\"https://colab.research.google.com/assets/colab-badge.svg\" alt=\"Open In Colab\"/></a>"
      ]
    },
    {
      "cell_type": "code",
      "metadata": {
        "colab": {
          "base_uri": "https://localhost:8080/"
        },
        "id": "8MRBccygpBDT",
        "outputId": "056f7393-c0e4-4f37-c60e-4a2bf0e78f50"
      },
      "source": [
        "liste = range(1, 101)\n",
        "for i in liste:\n",
        "  if i % 3 == 0 and i % 5 == 0:\n",
        "    print('FuzzBuzz')\n",
        "  elif i % 3 == 0:\n",
        "    print('Fuzz')\n",
        "  elif i % 5 == 0:\n",
        "    print('Buzz')\n",
        "  else:\n",
        "    print(i)\n",
        "print(liste)"
      ],
      "execution_count": 21,
      "outputs": [
        {
          "output_type": "stream",
          "name": "stdout",
          "text": [
            "1\n",
            "2\n",
            "Fuzz\n",
            "4\n",
            "Buzz\n",
            "Fuzz\n",
            "7\n",
            "8\n",
            "Fuzz\n",
            "Buzz\n",
            "11\n",
            "Fuzz\n",
            "13\n",
            "14\n",
            "FuzzBuzz\n",
            "16\n",
            "17\n",
            "Fuzz\n",
            "19\n",
            "Buzz\n",
            "Fuzz\n",
            "22\n",
            "23\n",
            "Fuzz\n",
            "Buzz\n",
            "26\n",
            "Fuzz\n",
            "28\n",
            "29\n",
            "FuzzBuzz\n",
            "31\n",
            "32\n",
            "Fuzz\n",
            "34\n",
            "Buzz\n",
            "Fuzz\n",
            "37\n",
            "38\n",
            "Fuzz\n",
            "Buzz\n",
            "41\n",
            "Fuzz\n",
            "43\n",
            "44\n",
            "FuzzBuzz\n",
            "46\n",
            "47\n",
            "Fuzz\n",
            "49\n",
            "Buzz\n",
            "Fuzz\n",
            "52\n",
            "53\n",
            "Fuzz\n",
            "Buzz\n",
            "56\n",
            "Fuzz\n",
            "58\n",
            "59\n",
            "FuzzBuzz\n",
            "61\n",
            "62\n",
            "Fuzz\n",
            "64\n",
            "Buzz\n",
            "Fuzz\n",
            "67\n",
            "68\n",
            "Fuzz\n",
            "Buzz\n",
            "71\n",
            "Fuzz\n",
            "73\n",
            "74\n",
            "FuzzBuzz\n",
            "76\n",
            "77\n",
            "Fuzz\n",
            "79\n",
            "Buzz\n",
            "Fuzz\n",
            "82\n",
            "83\n",
            "Fuzz\n",
            "Buzz\n",
            "86\n",
            "Fuzz\n",
            "88\n",
            "89\n",
            "FuzzBuzz\n",
            "91\n",
            "92\n",
            "Fuzz\n",
            "94\n",
            "Buzz\n",
            "Fuzz\n",
            "97\n",
            "98\n",
            "Fuzz\n",
            "Buzz\n",
            "range(1, 101)\n"
          ]
        }
      ]
    }
  ]
}